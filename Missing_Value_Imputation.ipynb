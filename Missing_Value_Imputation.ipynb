{
 "cells": [
  {
   "cell_type": "code",
   "execution_count": null,
   "metadata": {},
   "outputs": [],
   "source": [
    "!pip install missingno"
   ]
  },
  {
   "cell_type": "code",
   "execution_count": null,
   "metadata": {
    "id": "Kh6deU48mxY7"
   },
   "outputs": [],
   "source": [
    "import pandas as pd \n",
    "import numpy as np\n",
    "import matplotlib.pyplot as plt\n",
    "import missingno as msno\n",
    "from sklearn.impute import SimpleImputer\n",
    "import seaborn as sns\n",
    "plt.style.use(\"fivethirtyeight\")"
   ]
  },
  {
   "cell_type": "code",
   "execution_count": null,
   "metadata": {
    "id": "HmJuQVE-m4Ph"
   },
   "outputs": [],
   "source": [
    "df = pd.read_csv('travel-times.csv', parse_dates=[['Date', 'StartTime']], index_col='Date_StartTime')"
   ]
  },
  {
   "cell_type": "code",
   "execution_count": null,
   "metadata": {
    "colab": {
     "base_uri": "https://localhost:8080/",
     "height": 237
    },
    "id": "exY1WSPY8gyJ",
    "outputId": "b7eed364-f82b-4eed-fef6-00bfe1e4ac78",
    "scrolled": true
   },
   "outputs": [],
   "source": [
    "df.head()"
   ]
  },
  {
   "cell_type": "code",
   "execution_count": null,
   "metadata": {
    "colab": {
     "base_uri": "https://localhost:8080/"
    },
    "id": "N_63_vu7D4GQ",
    "outputId": "ac7f63d6-5d67-420d-ee0d-8fec9949ceaa"
   },
   "outputs": [],
   "source": [
    "df.info()"
   ]
  },
  {
   "cell_type": "code",
   "execution_count": null,
   "metadata": {
    "colab": {
     "base_uri": "https://localhost:8080/",
     "height": 300
    },
    "id": "ByvZ3Vdg-1kg",
    "outputId": "fd98eaed-ecf8-4c71-a1ae-1ba338ae3b72"
   },
   "outputs": [],
   "source": [
    "df.describe()"
   ]
  },
  {
   "cell_type": "code",
   "execution_count": null,
   "metadata": {
    "id": "coFbP2CdFXZC"
   },
   "outputs": [],
   "source": [
    "mask = np.random.choice([True, False], size=df['MaxSpeed'].shape, p=[0.1, 0.9])\n",
    "mask[mask.all(),-1] = 0\n",
    "df['MaxSpeed'] = df['MaxSpeed'].mask(mask)"
   ]
  },
  {
   "cell_type": "code",
   "execution_count": null,
   "metadata": {
    "colab": {
     "base_uri": "https://localhost:8080/",
     "height": 237
    },
    "id": "Nf-IuQ1WG_im",
    "outputId": "52d829b5-8f00-44ea-e3d9-d3ac162ad528"
   },
   "outputs": [],
   "source": [
    "df.head()"
   ]
  },
  {
   "cell_type": "code",
   "execution_count": null,
   "metadata": {
    "colab": {
     "base_uri": "https://localhost:8080/"
    },
    "id": "thPD1x3fnMxY",
    "outputId": "35303ae2-fe27-4aab-816a-7df1e4dc5789"
   },
   "outputs": [],
   "source": [
    "df.isnull().sum()"
   ]
  },
  {
   "cell_type": "code",
   "execution_count": null,
   "metadata": {
    "colab": {
     "base_uri": "https://localhost:8080/"
    },
    "id": "U9ujZD2WutsP",
    "outputId": "47f3d2bc-91d1-4657-c939-b0c3e47597f5"
   },
   "outputs": [],
   "source": [
    "df.isnull().mean()*100"
   ]
  },
  {
   "cell_type": "code",
   "execution_count": null,
   "metadata": {
    "colab": {
     "base_uri": "https://localhost:8080/",
     "height": 541
    },
    "id": "19fDz9K7nB2Z",
    "outputId": "6103467e-2e30-47ee-d15b-af6f37055e59"
   },
   "outputs": [],
   "source": [
    "msno.matrix(df)"
   ]
  },
  {
   "cell_type": "code",
   "execution_count": null,
   "metadata": {
    "id": "gYsrFX_FJf7f"
   },
   "outputs": [],
   "source": [
    "from sklearn.impute import SimpleImputer"
   ]
  },
  {
   "cell_type": "code",
   "execution_count": null,
   "metadata": {
    "id": "7PgSWTNyLfn0"
   },
   "outputs": [],
   "source": [
    "# Mean Imputation\n",
    "\n",
    "df_mean = df.copy(deep=True)\n",
    "mean_imputer = SimpleImputer(strategy=\"mean\")\n",
    "df_mean['MaxSpeed'] = mean_imputer.fit_transform(df_mean['MaxSpeed'].values.reshape(-1,1))"
   ]
  },
  {
   "cell_type": "code",
   "execution_count": null,
   "metadata": {
    "colab": {
     "base_uri": "https://localhost:8080/",
     "height": 296
    },
    "id": "Hy6_BE8gSJp9",
    "outputId": "b871495c-4e5a-484e-8310-1a23193e01d4"
   },
   "outputs": [],
   "source": [
    "fig = plt.Figure()\n",
    "null_values = df[\"MaxSpeed\"].isnull() \n",
    "fig = df_mean.plot(x=\"AvgSpeed\", y=\"MaxSpeed\", kind=\"scatter\", c=null_values, cmap='winter', title='Mean Imputation', colorbar=False)"
   ]
  },
  {
   "cell_type": "code",
   "execution_count": null,
   "metadata": {
    "id": "Gixn-sUIMLh3"
   },
   "outputs": [],
   "source": [
    "# Mode Imputation\n",
    "\n",
    "df_mode = df.copy(deep=True)\n",
    "mode_imputer = SimpleImputer(strategy=\"most_frequent\")\n",
    "df_mode['MaxSpeed'] = mode_imputer.fit_transform(df_mode['MaxSpeed'].values.reshape(-1,1))"
   ]
  },
  {
   "cell_type": "code",
   "execution_count": null,
   "metadata": {
    "colab": {
     "base_uri": "https://localhost:8080/",
     "height": 296
    },
    "id": "ZeKERC9uNTiX",
    "outputId": "19bc3846-b281-4fdd-8c00-a8df5fadbeaf"
   },
   "outputs": [],
   "source": [
    "fig = plt.Figure()\n",
    "null_values = df[\"MaxSpeed\"].isnull() \n",
    "fig = df_mode.plot(x=\"AvgSpeed\", y=\"MaxSpeed\", kind=\"scatter\", c=null_values, cmap='winter', colorbar=False, title='Mode Imputation')"
   ]
  },
  {
   "cell_type": "code",
   "execution_count": null,
   "metadata": {
    "colab": {
     "base_uri": "https://localhost:8080/"
    },
    "id": "4ISLCHq6Nw7P",
    "outputId": "adfe2821-ddb3-4c89-f939-cb8c66a3c408"
   },
   "outputs": [],
   "source": [
    "# Time Series Imputation\n",
    "\n",
    "df['MaxSpeed'][-50:-40]"
   ]
  },
  {
   "cell_type": "code",
   "execution_count": null,
   "metadata": {
    "colab": {
     "base_uri": "https://localhost:8080/"
    },
    "id": "uuBiHVkQD9e_",
    "outputId": "b7599b93-107a-4a7a-8649-cf531d06007d"
   },
   "outputs": [],
   "source": [
    "# Ffill method to replace nans with the last observed value\n",
    "\n",
    "df['MaxSpeed'].fillna(method='ffill')[-50:-40]"
   ]
  },
  {
   "cell_type": "code",
   "execution_count": null,
   "metadata": {
    "colab": {
     "base_uri": "https://localhost:8080/"
    },
    "id": "vAmsbj_cEN5c",
    "outputId": "05c4d422-8934-46a7-dba6-fcd33f66faf7"
   },
   "outputs": [],
   "source": [
    "# Bfill method to replace nans with the next observed value\n",
    "\n",
    "df['MaxSpeed'].fillna(method='bfill')[-50:-40]"
   ]
  },
  {
   "cell_type": "code",
   "execution_count": null,
   "metadata": {
    "colab": {
     "base_uri": "https://localhost:8080/",
     "height": 404
    },
    "id": "0oGTpfA4FPOx",
    "outputId": "f6ad9a43-2f5f-4ac2-ae1a-5358911b56cb"
   },
   "outputs": [],
   "source": [
    "df[\"MaxSpeed\"][:100].plot(title=\"MaxSpeed\", marker=\"o\", figsize=(30,10))"
   ]
  },
  {
   "cell_type": "code",
   "execution_count": null,
   "metadata": {
    "colab": {
     "base_uri": "https://localhost:8080/",
     "height": 404
    },
    "id": "kTJM_y2fGwMR",
    "outputId": "2f75c07e-0efe-4e34-e29d-ef9bdbd15f59"
   },
   "outputs": [],
   "source": [
    "# Ffill imputation\n",
    "ffill_imp = df.fillna(method=\"ffill\")\n",
    "ffill_imp[\"MaxSpeed\"][:100].plot(color=\"red\", marker=\"o\", linestyle=\"dotted\", figsize=(30,10))\n",
    "df[\"MaxSpeed\"][:100].plot(title=\"MaxSpeed\", marker=\"o\")"
   ]
  },
  {
   "cell_type": "code",
   "execution_count": null,
   "metadata": {
    "colab": {
     "base_uri": "https://localhost:8080/",
     "height": 404
    },
    "id": "KFkhcBM2Jia6",
    "outputId": "1c58030b-cc73-4bff-b702-f1f75a2e232b"
   },
   "outputs": [],
   "source": [
    "# Bfill imputation\n",
    "bfill_imp = df.fillna(method=\"bfill\")\n",
    "bfill_imp[\"MaxSpeed\"][:100].plot(color=\"red\", marker=\"o\", linestyle=\"dotted\", figsize=(30,10))\n",
    "df[\"MaxSpeed\"][:100].plot(title=\"MaxSpeed\", marker=\"o\")"
   ]
  },
  {
   "cell_type": "code",
   "execution_count": null,
   "metadata": {
    "colab": {
     "base_uri": "https://localhost:8080/",
     "height": 404
    },
    "id": "kuSt2T28LjXL",
    "outputId": "6800a18f-f011-4887-a91b-a4cec7860a2d"
   },
   "outputs": [],
   "source": [
    "# Linear Interpolation imputation\n",
    "linear_int = df.interpolate(method=\"linear\")\n",
    "linear_int[\"MaxSpeed\"][:100].plot(color=\"red\", marker=\"o\", linestyle=\"dotted\", figsize=(30,10))\n",
    "df[\"MaxSpeed\"][:100].plot(title=\"MaxSpeed\", marker=\"o\")"
   ]
  },
  {
   "cell_type": "code",
   "execution_count": null,
   "metadata": {
    "id": "nZInMwmO_MAp"
   },
   "outputs": [],
   "source": [
    "# Advanced Techniques\n",
    "\n",
    "# Imputing with KNNImputer\n",
    "\n",
    "from sklearn.impute import KNNImputer\n",
    "from sklearn.preprocessing import MinMaxScaler\n",
    "\n",
    "df_knn = df.filter(['Distance',\t'MaxSpeed',\t'AvgSpeed',\t'AvgMovingSpeed'], axis=1).copy()\n",
    "\n",
    "scaler = MinMaxScaler(feature_range=(0, 1))\n",
    "df_knn = pd.DataFrame(scaler.fit_transform(df_knn), columns = df_knn.columns)\n",
    "\n",
    "knn_imputer = KNNImputer(n_neighbors=5, weights='uniform', metric='nan_euclidean')\n",
    "\n",
    "df_knn_imputed = pd.DataFrame(knn_imputer.fit_transform(df_knn), columns=df_knn.columns)"
   ]
  },
  {
   "cell_type": "code",
   "execution_count": null,
   "metadata": {
    "colab": {
     "base_uri": "https://localhost:8080/",
     "height": 296
    },
    "id": "PRbRHOj1hzY6",
    "outputId": "5318701e-73fd-4c3a-e489-796b7aa078b5"
   },
   "outputs": [],
   "source": [
    "fig = plt.Figure()\n",
    "null_values = df[\"MaxSpeed\"].isnull() \n",
    "fig = df_knn_imputed.plot(x=\"AvgSpeed\", y=\"MaxSpeed\", kind=\"scatter\", c=null_values, cmap='winter', title='KNN Imputation', colorbar=False)"
   ]
  },
  {
   "cell_type": "code",
   "execution_count": null,
   "metadata": {
    "id": "3v5XFWJcbFfI"
   },
   "outputs": [],
   "source": [
    "# Imputing with MICE\n",
    "from sklearn.experimental import enable_iterative_imputer\n",
    "from sklearn.impute import IterativeImputer\n",
    "from sklearn import linear_model\n",
    "\n",
    "df_mice = df.filter(['Distance',\t'MaxSpeed',\t'AvgSpeed',\t'AvgMovingSpeed'], axis=1).copy()\n",
    "\n",
    "mice_imputer = IterativeImputer(estimator=linear_model.BayesianRidge(), n_nearest_features=None, imputation_order='ascending')\n",
    "\n",
    "df_mice_imputed = pd.DataFrame(mice_imputer.fit_transform(df_mice), columns=df_mice.columns)"
   ]
  },
  {
   "cell_type": "code",
   "execution_count": null,
   "metadata": {
    "colab": {
     "base_uri": "https://localhost:8080/",
     "height": 296
    },
    "id": "sxUFuWceizoM",
    "outputId": "938f5036-40bf-447e-cc49-3d6edfa7b0ce"
   },
   "outputs": [],
   "source": [
    "fig = plt.Figure()\n",
    "null_values = df[\"MaxSpeed\"].isnull() \n",
    "fig = df_mice_imputed.plot(x=\"AvgSpeed\", y=\"MaxSpeed\", kind=\"scatter\", c=null_values, cmap='winter', title='MICE Imputation', colorbar=False)"
   ]
  },
  {
   "cell_type": "code",
   "execution_count": null,
   "metadata": {
    "id": "h3qasqdRly2H"
   },
   "outputs": [],
   "source": []
  }
 ],
 "metadata": {
  "colab": {
   "collapsed_sections": [],
   "name": "Missing_Value_Imputation.ipynb",
   "provenance": []
  },
  "kernelspec": {
   "display_name": "Python 3 (ipykernel)",
   "language": "python",
   "name": "python3"
  },
  "language_info": {
   "codemirror_mode": {
    "name": "ipython",
    "version": 3
   },
   "file_extension": ".py",
   "mimetype": "text/x-python",
   "name": "python",
   "nbconvert_exporter": "python",
   "pygments_lexer": "ipython3",
   "version": "3.11.5"
  }
 },
 "nbformat": 4,
 "nbformat_minor": 4
}
